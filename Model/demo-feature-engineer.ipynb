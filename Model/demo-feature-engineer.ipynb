{
 "cells": [
  {
   "cell_type": "code",
   "execution_count": 5,
   "metadata": {},
   "outputs": [
    {
     "name": "stderr",
     "output_type": "stream",
     "text": [
      "/home/weijiesun/anaconda3/envs/featxgcat2/lib/python3.7/site-packages/ipykernel/ipkernel.py:287: DeprecationWarning: `should_run_async` will not call `transform_cell` automatically in the future. Please pass the result to `transformed_cell` argument and any exception that happen during thetransform in `preprocessing_exc_tuple` in IPython 7.17 and above.\n",
      "  and should_run_async(code)\n"
     ]
    }
   ],
   "source": [
    "from feature_engineer import feature_engineer\n",
    "import pickle\n",
    "import numpy as np"
   ]
  },
  {
   "cell_type": "code",
   "execution_count": 6,
   "metadata": {},
   "outputs": [
    {
     "name": "stderr",
     "output_type": "stream",
     "text": [
      "/home/weijiesun/anaconda3/envs/featxgcat2/lib/python3.7/site-packages/ipykernel/ipkernel.py:287: DeprecationWarning: `should_run_async` will not call `transform_cell` automatically in the future. Please pass the result to `transformed_cell` argument and any exception that happen during thetransform in `preprocessing_exc_tuple` in IPython 7.17 and above.\n",
      "  and should_run_async(code)\n"
     ]
    },
    {
     "name": "stdout",
     "output_type": "stream",
     "text": [
      "['SEPI_GRPR_ID']\n"
     ]
    }
   ],
   "source": [
    "obs_id = 'rcpt_MR_obs_id' \n",
    "\n",
    "interim_datadir = '../data/interim/'    \n",
    "proc_datadir = '../data/processed/'\n",
    "\n",
    "with open(interim_datadir + 'inpamb_featprocess_0216_MR_obs_200420.pickle', 'rb') as handle:\n",
    "    inp_amb_dict = pickle.load(handle)\n",
    "    \n",
    "for df in inp_amb_dict: \n",
    "    inp_amb_dict[df].reset_index(inplace = True, drop = True)\n",
    "\n",
    "#add record ids\n",
    "inp_amb_dict['inp_dx']['dx_event_id'] = [(inp_amb_dict['inp_dx']['event_id'][i] + \"_\" + str(i)) for i in inp_amb_dict['inp_dx'].index]\n",
    "inp_amb_dict['inp_prvd']['prvd_event_id'] = [(inp_amb_dict['inp_prvd']['event_id'][i] + \"_\" + str(i)) for i in inp_amb_dict['inp_prvd'].index]\n",
    "inp_amb_dict['inp_intrv']['intrv_event_id'] = [(inp_amb_dict['inp_intrv']['event_id'][i] + \"_\" + str(i)) for i in inp_amb_dict['inp_intrv'].index]\n",
    "\n",
    "inp_amb_dict['amb_dx']['dx_event_id'] = [(inp_amb_dict['amb_dx']['event_id'][i] + \"_\" + str(i)) for i in inp_amb_dict['amb_dx'].index]\n",
    "inp_amb_dict['amb_intrv']['intrv_event_id'] = [(inp_amb_dict['amb_intrv']['event_id'][i] + \"_\" + str(i)) for i in inp_amb_dict['amb_intrv'].index]\n",
    "\n",
    "#identify removable vars\n",
    "ll = list(inp_amb_dict['amb_visits'].columns)\n",
    "print(np.sort(np.array(ll)[np.array(['GRPR' in i for i in ll])]))\n",
    "\n",
    "remvars = {}\n",
    "#remvars['amb'] = ['SEPI_CACS_AGE_CAT_CODE','SEPI_CAS_AGE_CAT_CODE','SEPI_MODE_SRVC_CODE','SEPI_REC_GRPR_ID','SEPI_GRPR_ID','SEPI_MODE_SRVC_CODE'] #REC_SUBM_FAC_ID, Total_Cost\n",
    "remvars['amb'] = ['SEPI_MODE_SRVC_CODE','SEPI_GRPR_ID','SEPI_MODE_SRVC_CODE']\n",
    "remvars['inp'] = ['CMG_Age_Category_2013_016','SEPI_GRPR_DESC','SEPI_REC_GRPR_ID']\n",
    "#optional add: #SEPI_CMG_CODE, REC_SUBM_FAC_ID, Total_Cost\n",
    "inp_amb_dict['inp_visits'].drop(columns=remvars['inp'], axis=1, inplace=True)\n",
    "inp_amb_dict['amb_visits'].drop(columns=remvars['amb'], axis=1, inplace=True)"
   ]
  },
  {
   "cell_type": "code",
   "execution_count": 7,
   "metadata": {},
   "outputs": [
    {
     "name": "stderr",
     "output_type": "stream",
     "text": [
      "/home/weijiesun/anaconda3/envs/featxgcat2/lib/python3.7/site-packages/ipykernel/ipkernel.py:287: DeprecationWarning: `should_run_async` will not call `transform_cell` automatically in the future. Please pass the result to `transformed_cell` argument and any exception that happen during thetransform in `preprocessing_exc_tuple` in IPython 7.17 and above.\n",
      "  and should_run_async(code)\n"
     ]
    }
   ],
   "source": [
    "#remove columns with single levels\n",
    "remvars['inp'] = ['HLTH_DX_TYPE_CODE_MR','HLTH_DX_CODE_VER_NUM_CODE' ,'PRVD_ROLE_CODE_1']\n",
    "inp_amb_dict['inp_visits'].drop(columns=remvars['inp'], axis=1, inplace=True)\n",
    "\n",
    "#mode impute the blood columns with small number of nans and convert to bool type\n",
    "bl_cols = ['HLTH_STATUS_BLD_OTH_CMPTS_FLAG', 'HLTH_STATUS_BLD_RED_CELLS_FLAG','HLTH_STATUS_BLOOD_ALBUMIN_FLAG',\n",
    "'HLTH_STATUS_BLOOD_PLASMA_FLAG','HLTH_STATUS_BLOOD_PLAT_FLAG','HLTH_STATUS_BLOOD_TRNSFSN_FLAG']\n",
    "inp_amb_dict['inp_visits'][bl_cols].fillna((inp_amb_dict['inp_visits'][bl_cols].mode()), inplace=True)\n",
    "inp_amb_dict['inp_visits'][bl_cols] = (inp_amb_dict['inp_visits'][bl_cols] == b'Y').astype(bool)\n",
    "\n",
    "inp_amb_dict['inp_visits']['SE_CODE_VER_NUM_CODE'] = (inp_amb_dict['inp_visits']['SE_CODE_VER_NUM_CODE'] == b'CCI').astype(bool)\n"
   ]
  },
  {
   "cell_type": "code",
   "execution_count": 10,
   "metadata": {},
   "outputs": [
    {
     "name": "stderr",
     "output_type": "stream",
     "text": [
      "/home/weijiesun/anaconda3/envs/featxgcat2/lib/python3.7/site-packages/ipykernel/ipkernel.py:287: DeprecationWarning: `should_run_async` will not call `transform_cell` automatically in the future. Please pass the result to `transformed_cell` argument and any exception that happen during thetransform in `preprocessing_exc_tuple` in IPython 7.17 and above.\n",
      "  and should_run_async(code)\n"
     ]
    }
   ],
   "source": [
    "#feature extraction using feattools\n",
    "import featuretools as ft\n",
    "import featuretools.variable_types as vtypes\n",
    "import pandas as pd\n",
    "#create dict for index and time index\n",
    "es_index_dict = dict(zip(inp_amb_dict.keys(),['event_id','dx_event_id','intrv_event_id','prvd_event_id','event_id','dx_event_id','intrv_event_id']))\n",
    "es_tindex_dict = dict(zip(inp_amb_dict.keys(),['SEPI_START_DATE',None,'SE_INTRV_DATE_PR_OTH',None,'SEPI_START_DATE',None,None]))\n",
    "es_index_dict,es_tindex_dict\n",
    "\n",
    "es = ft.EntitySet('inp_amb')\n",
    "\n",
    "for reg in inp_amb_dict:\n",
    "    es = es.entity_from_dataframe(entity_id=reg,\n",
    "                                  dataframe=inp_amb_dict[reg],\n",
    "                                  index=es_index_dict[reg],\n",
    "                                  time_index=es_tindex_dict[reg])\n",
    "    \n",
    "#for combined inp and amb obs\n",
    "inp_amb_obs = pd.DataFrame({obs_id:np.union1d(inp_amb_dict['inp_visits'][obs_id].unique(), inp_amb_dict['amb_visits'][obs_id].unique())})\n",
    "es = es.entity_from_dataframe(entity_id='inp_amb_obs',\n",
    "                                  dataframe=inp_amb_obs,\n",
    "                                  index=obs_id)\n",
    "for reg in ['inp_visits','amb_visits']:\n",
    "    es = es.add_relationship(ft.Relationship(es['inp_amb_obs'][obs_id],es[reg][obs_id]))\n",
    "    \n",
    "rel1 = ['inp_visits','inp_visits','inp_visits','amb_visits','amb_visits']\n",
    "rel2 = ['inp_dx','inp_intrv','inp_prvd','amb_dx','amb_intrv']\n",
    "\n",
    "for i in range(len(rel1)):\n",
    "    es = es.add_relationship(ft.Relationship(es[rel1[i]][\"event_id\"],es[rel2[i]][\"event_id\"]))"
   ]
  },
  {
   "cell_type": "code",
   "execution_count": 11,
   "metadata": {
    "collapsed": true,
    "jupyter": {
     "outputs_hidden": true
    }
   },
   "outputs": [
    {
     "name": "stderr",
     "output_type": "stream",
     "text": [
      "/home/weijiesun/anaconda3/envs/featxgcat2/lib/python3.7/site-packages/ipykernel/ipkernel.py:287: DeprecationWarning: `should_run_async` will not call `transform_cell` automatically in the future. Please pass the result to `transformed_cell` argument and any exception that happen during thetransform in `preprocessing_exc_tuple` in IPython 7.17 and above.\n",
      "  and should_run_async(code)\n"
     ]
    },
    {
     "name": "stdout",
     "output_type": "stream",
     "text": [
      "\n",
      "0     b'I500'\n",
      "1      b'K20'\n",
      "2     b'I500'\n",
      "3     b'I500'\n",
      "4    b'G4020'\n",
      "Name: HLTH_DX_CODE_MR_OTH, dtype: object\n",
      "Number of elements : 1941839\n",
      "Number of unique elements : 8882\n",
      "Minimum thrshold frequency: 1941.839\n",
      "Number of unique elements selected : 172\n",
      "\n",
      "0    b'M'\n",
      "1    b'M'\n",
      "2    b'M'\n",
      "3    b'M'\n",
      "4    b'M'\n",
      "Name: HLTH_DX_TYPE_CODE_MR_OTH, dtype: object\n",
      "Number of elements : 1941839\n",
      "Number of unique elements : 12\n",
      "Minimum thrshold frequency: 1941.839\n",
      "Number of unique elements selected : 7\n",
      "\n",
      "0               b'GP'\n",
      "1               b'GP'\n",
      "2               b'GP'\n",
      "3    b'Med_Spec_Card'\n",
      "4               b'GP'\n",
      "Name: Prvd_Spec_Grp_MR_Int, dtype: object\n",
      "Number of elements : 451810\n",
      "Number of unique elements : 9\n",
      "Minimum thrshold frequency: 451.81\n",
      "Number of unique elements selected : 9\n",
      "\n",
      "0      b'3GY10VA'\n",
      "1      b'3IP10VX'\n",
      "2      b'2WY71HA'\n",
      "3      b'3IP10VX'\n",
      "4    b'2NK71BABL'\n",
      "Name: SE_INTRV_CODE_PR_OTH, dtype: object\n",
      "Number of elements : 224122\n",
      "Number of unique elements : 5529\n",
      "Minimum thrshold frequency: 224.122\n",
      "Number of unique elements selected : 153\n",
      "\n",
      "0    b'Z501'\n",
      "1    b'Z501'\n",
      "2    b'Z501'\n",
      "3    b'Z501'\n",
      "4    b'Z501'\n",
      "Name: HLTH_DX_CODE_MR_OTH, dtype: object\n",
      "Number of elements : 6246814\n",
      "Number of unique elements : 9463\n",
      "Minimum thrshold frequency: 6246.814\n",
      "Number of unique elements selected : 144\n",
      "\n",
      "0    b'2ZZ02ZU'\n",
      "1    b'2ZZ02ZU'\n",
      "2    b'2ZZ02ZU'\n",
      "3    b'2ZZ02ZU'\n",
      "4    b'2ZZ02ZU'\n",
      "Name: SE_INTRV_CODE_PR_OTH, dtype: object\n",
      "Number of elements : 4656878\n",
      "Number of unique elements : 4943\n",
      "Minimum thrshold frequency: 4656.878\n",
      "Number of unique elements selected : 102\n"
     ]
    }
   ],
   "source": [
    "\n",
    "\n",
    "def sel_coperct(var, co_perct, fig = False):\n",
    "    #return unique elements that have minimum precent frequency\n",
    "    co_perct = co_perct/100\n",
    "    bl = var.value_counts()>(len(var)*(co_perct))\n",
    "    print ()\n",
    "    print (var.head())\n",
    "    print ('Number of elements : '+str(len(var)))\n",
    "    print ('Number of unique elements : '+str(len(bl)))\n",
    "    print ('Minimum thrshold frequency: '+str(len(var)*co_perct))\n",
    "    var_sel = bl[bl==True].index.tolist()\n",
    "    print ('Number of unique elements selected : '+str(len(var_sel)))\n",
    "    if fig == True:\n",
    "        var.value_counts().plot(kind='bar', logy=True)\n",
    "        plt.show()\n",
    "    return var_sel\n",
    "\n",
    "varsel_inp_dx = sel_coperct(inp_amb_dict['inp_dx']['HLTH_DX_CODE_MR_OTH'], 0.1) \n",
    "varsel_inp_dx_type = sel_coperct(inp_amb_dict['inp_dx']['HLTH_DX_TYPE_CODE_MR_OTH'], 0.1) \n",
    "varsel_inp_prvd = sel_coperct(inp_amb_dict['inp_prvd']['Prvd_Spec_Grp_MR_Int'], 0.1)\n",
    "varsel_inp_intrv = sel_coperct(inp_amb_dict['inp_intrv']['SE_INTRV_CODE_PR_OTH'], 0.1)\n",
    "varsel_amb_dx = sel_coperct(inp_amb_dict['amb_dx']['HLTH_DX_CODE_MR_OTH'], 0.1)\n",
    "varsel_amb_intrv = sel_coperct(inp_amb_dict['amb_intrv']['SE_INTRV_CODE_PR_OTH'], 0.1)\n",
    "\n",
    "es['inp_dx']['HLTH_DX_CODE_MR_OTH'].interesting_values = varsel_inp_dx\n",
    "es['inp_dx']['HLTH_DX_TYPE_CODE_MR_OTH'].interesting_values = varsel_inp_dx_type\n",
    "es['inp_prvd']['Prvd_Spec_Grp_MR_Int'].interesting_values = varsel_inp_prvd\n",
    "es['inp_intrv']['SE_INTRV_CODE_PR_OTH'].interesting_values = varsel_inp_intrv\n",
    "es['amb_dx']['HLTH_DX_CODE_MR_OTH'].interesting_values = varsel_amb_dx\n",
    "es['amb_intrv']['SE_INTRV_CODE_PR_OTH'].interesting_values = varsel_amb_intrv"
   ]
  },
  {
   "cell_type": "code",
   "execution_count": 13,
   "metadata": {},
   "outputs": [
    {
     "name": "stderr",
     "output_type": "stream",
     "text": [
      "/home/weijiesun/anaconda3/envs/featxgcat2/lib/python3.7/site-packages/ipykernel/ipkernel.py:287: DeprecationWarning: `should_run_async` will not call `transform_cell` automatically in the future. Please pass the result to `transformed_cell` argument and any exception that happen during thetransform in `preprocessing_exc_tuple` in IPython 7.17 and above.\n",
      "  and should_run_async(code)\n"
     ]
    },
    {
     "name": "stdout",
     "output_type": "stream",
     "text": [
      "Built 12249 features\n"
     ]
    }
   ],
   "source": [
    "from featuretools.primitives import TimeSincePrevious\n",
    "time_since_previous_in_days = TimeSincePrevious(unit='days')\n",
    "\n",
    "agg_prim = ['mean','n_most_common','count','percent_true','last','median','max','num_unique'] \n",
    "agg_prim = agg_prim + ['min','std','entropy','trend','all','any','first','skew']\n",
    "trans_prim = [time_since_previous_in_days,'is_null','year','is_weekend']\n",
    "trans_prim = trans_prim + ['percentile','diff']\n",
    "where_prim = ['count','median'] \n",
    "#where_prim = where_prim + ['num_unique', 'mode'] \n",
    "\n",
    "features = feature_engineer(es, target_entity = 'inp_amb_obs',\n",
    "    agg_prim = agg_prim,\n",
    "    trans_prim = trans_prim,\n",
    "    where_prim = where_prim)\n"
   ]
  }
 ],
 "metadata": {
  "kernelspec": {
   "display_name": "Python 3",
   "language": "python",
   "name": "python3"
  },
  "language_info": {
   "codemirror_mode": {
    "name": "ipython",
    "version": 3
   },
   "file_extension": ".py",
   "mimetype": "text/x-python",
   "name": "python",
   "nbconvert_exporter": "python",
   "pygments_lexer": "ipython3",
   "version": "3.7.8"
  }
 },
 "nbformat": 4,
 "nbformat_minor": 4
}
